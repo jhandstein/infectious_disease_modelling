{
 "cells": [
  {
   "cell_type": "code",
   "execution_count": 289,
   "metadata": {},
   "outputs": [],
   "source": [
    "from scipy.integrate import odeint\n",
    "import numpy as np\n",
    "import matplotlib.pyplot as plt\n",
    "%matplotlib inline "
   ]
  },
  {
   "cell_type": "markdown",
   "metadata": {},
   "source": [
    "# *Basic SIR Model*"
   ]
  },
  {
   "cell_type": "code",
   "execution_count": 290,
   "metadata": {},
   "outputs": [
    {
     "name": "stdout",
     "output_type": "stream",
     "text": [
      "Total infections per person: 4.0\n"
     ]
    }
   ],
   "source": [
    "# S, I, R are different compartments of the *compartmental model*\n",
    "# S(7) means how many people are (still) susceptible to the disease after 7 days\n",
    "S0, I0, R0 = 999, 1, 0  # initial conditions: one infected, rest susceptible\n",
    "y0 = S0, I0, R0 # Initial conditions vector\n",
    "N = sum(y0) # total population\n",
    "\n",
    "infection_chance = 0.2 \n",
    "contacts_per_day = 5 # https://www.covid-19-mobility.org/de/reports/contacts-pandemic/\n",
    "beta = infection_chance * contacts_per_day # number of people that are infected by one person each day\n",
    "D = 4.0 # number of days an infected person has and can spread the disease\n",
    "gamma = 1.0 / D # the proportion of infected recovering per day (γ = 1/D)\n",
    "# shouldn't you track how many people were sick on day 1 and then let them recover after day 1+D?\n",
    "total_infections_pp = round(beta / gamma, 1)\n",
    "print(f\"Total infections per person: {total_infections_pp}\")"
   ]
  },
  {
   "cell_type": "code",
   "execution_count": 291,
   "metadata": {},
   "outputs": [],
   "source": [
    "# some basic math reminder : dSdr describes the change of S\n",
    "def deriv(y, t, N, beta, gamma):\n",
    "    S, I, _R = y\n",
    "    # these derivatives (ex.: S'(t)) describe the change of a function (...?)\n",
    "    dSdt = -beta * I * (S / N)\n",
    "    dIdt = beta * I * (S / N) - gamma * I\n",
    "    dRdt = gamma * I\n",
    "    return dSdt, dIdt, dRdt"
   ]
  },
  {
   "cell_type": "code",
   "execution_count": 292,
   "metadata": {},
   "outputs": [
    {
     "name": "stdout",
     "output_type": "stream",
     "text": [
      "50\n",
      "[803.47321499 142.07405431  54.45273071]\n"
     ]
    }
   ],
   "source": [
    "t = np.linspace(0, 49, 50) # Grid/array of time points (in days)\n",
    "# just seems like a fancy way to do np.asarray(range(50))\n",
    "\n",
    "# Integrate the SIR equations over the time grid, t.\n",
    "ret = odeint(deriv, y0, t, args=(N, beta, gamma))\n",
    "S, I, R = ret.T\n",
    "\n",
    "# structure of vector is 50 entries with values for S(t), I(t), R(t) each\n",
    "print(len(ret))\n",
    "print(ret[:50][7])"
   ]
  },
  {
   "cell_type": "code",
   "execution_count": 293,
   "metadata": {},
   "outputs": [],
   "source": [
    "def plotsir(t, S, I, R):\n",
    "  f, ax = plt.subplots(1,1,figsize=(10,4))\n",
    "  ax.plot(t, S, 'b', alpha=0.7, linewidth=2, label='Susceptible')\n",
    "  ax.plot(t, I, 'y', alpha=0.7, linewidth=2, label='Infected')\n",
    "  ax.plot(t, R, 'g', alpha=0.7, linewidth=2, label='Recovered')\n",
    "\n",
    "  ax.set_xlabel('Time (days)')\n",
    "\n",
    "  ax.yaxis.set_tick_params(length=0)\n",
    "  ax.xaxis.set_tick_params(length=0)\n",
    "  ax.grid(b=True, which='major', c='w', lw=2, ls='-')\n",
    "  legend = ax.legend()\n",
    "  legend.get_frame().set_alpha(0.5)\n",
    "  for spine in ('top', 'right', 'bottom', 'left'):\n",
    "      ax.spines[spine].set_visible(False)\n",
    "  plt.show()"
   ]
  },
  {
   "cell_type": "code",
   "execution_count": 294,
   "metadata": {},
   "outputs": [
    {
     "data": {
      "image/png": "[encoded data removed]",
      "text/plain": [
       "<Figure size 720x288 with 1 Axes>"
      ]
     },
     "metadata": {
      "needs_background": "light"
     },
     "output_type": "display_data"
    }
   ],
   "source": [
    "plotsir(t, S, I, R)"
   ]
  },
  {
   "cell_type": "markdown",
   "metadata": {},
   "source": [
    "# *Addition of new compartment*"
   ]
  },
  {
   "cell_type": "code",
   "execution_count": 295,
   "metadata": {},
   "outputs": [],
   "source": [
    "def deriv(y, t, N, beta, gamma, delta):\n",
    "    S, E, I, R = y\n",
    "    dSdt = -beta * S * I / N\n",
    "    dEdt = beta * S * I / N - delta * E\n",
    "    dIdt = delta * E - gamma * I\n",
    "    dRdt = gamma * I\n",
    "    return dSdt, dEdt, dIdt, dRdt"
   ]
  },
  {
   "cell_type": "code",
   "execution_count": 296,
   "metadata": {},
   "outputs": [],
   "source": [
    "N = 1_000_000\n",
    "S0, E0, I0, R0 = N-1, 1, 0, 0  # initial conditions: one exposed\n",
    "D = 4.0 # infections lasts four days\n",
    "gamma = 1.0 / D\n",
    "delta = 1.0 / 5.0  # incubation period of five days\n",
    "R_0 = 5.0\n",
    "beta = R_0 * gamma  # R_0 = beta / gamma, so beta = R_0 * gamma"
   ]
  },
  {
   "cell_type": "code",
   "execution_count": 297,
   "metadata": {},
   "outputs": [
    {
     "name": "stdout",
     "output_type": "stream",
     "text": [
      "(100, 4) <class 'numpy.ndarray'>\n",
      "[999999.         999998.89005853 999998.59727041 999998.13995108\n",
      " 999997.50283767 999996.64675771 999995.51087914 999994.01059849\n",
      " 999992.03230217 999989.42527629 999985.99047409 999981.46544102\n",
      " 999975.50432248 999967.65146526 999957.30661404 999943.67905757\n",
      " 999925.72723009 999902.07916866 999870.92777479 999829.89291462\n",
      " 999775.83990072 999704.64061066 999610.85922508 999487.33896964\n",
      " 999324.65899182 999110.42109776 998828.31397992 998456.88713645\n",
      " 997967.94722971 997324.46546572 996477.85530251 995364.44562493\n",
      " 993900.93685358 991978.59037801 989455.87383103 986149.28259992\n",
      " 981822.11138106 976171.1093741  968811.29992771 959259.90159186\n",
      " 946921.41792344 931077.75475696 910889.80531825 885420.1953923\n",
      " 853690.07515723 814784.09820578 768013.58242376 713133.68777357\n",
      " 650583.07421017 581677.92929898 508664.02261391 434540.25974409\n",
      " 362637.37291524 296049.06696973 237103.65869259 187059.81378837\n",
      " 146103.1164169  113584.07320879  88360.24029282  69113.76338887\n",
      "  54574.8488283   43641.54662494  35419.83300783  29215.95505588\n",
      "  24506.94960963  20905.58362048  18127.90961975  15966.50116487\n",
      "  14269.73930632  12926.37761125  11854.29715087  10992.41747548\n",
      "  10294.91320602   9727.08538576   9262.40923499   8880.41471486\n",
      "   8565.15651505   8304.10197964   8087.31684588   7906.86399352\n",
      "   7756.35566598   7630.61702595   7525.4310015    7437.34300037\n",
      "   7363.51010744   7301.58350331   7249.61601548   7205.98881585\n",
      "   7169.35282776   7138.58154896   7112.73280126   7091.01754174\n",
      "   7072.77428394   7057.44802564   7044.57281606   7033.75728508\n",
      "   7024.67259529   7017.04238739   7010.63437224   7005.25328902]\n"
     ]
    }
   ],
   "source": [
    "t = np.linspace(0, 99, 100) # Grid of time points (in days)\n",
    "y0 = S0, E0, I0, R0 # Initial conditions vector\n",
    "\n",
    "# Integrate the SIR equations over the time grid, t.\n",
    "ret = odeint(deriv, y0, t, args=(N, beta, gamma, delta))\n",
    "print(ret.shape, type(ret.T))\n",
    "S, E, I, R = ret.T\n",
    "print(S)"
   ]
  },
  {
   "cell_type": "code",
   "execution_count": 298,
   "metadata": {},
   "outputs": [],
   "source": [
    "def plot_short(ax_plot, x, Y, colour: str, label:str, alpha_val=0.7, line_val=2):\n",
    "    ax_plot.plot(x, Y, colour, label=label, alpha=alpha_val, linewidth=line_val)"
   ]
  },
  {
   "cell_type": "code",
   "execution_count": 299,
   "metadata": {},
   "outputs": [],
   "source": [
    "def plotseird(t, S, E, I, R, D=None, L=None, R0=None, Alpha=None, CFR=None):\n",
    "  \n",
    "  f, ax = plt.subplots(1,1,figsize=(10,4))\n",
    "  ax.plot(t, S, 'b', alpha=0.7, linewidth=2, label='Susceptible')\n",
    "  ax.plot(t, E, 'y', alpha=0.7, linewidth=2, label='Exposed')\n",
    "  ax.plot(t, I, 'r', alpha=0.7, linewidth=2, label='Infected')\n",
    "  ax.plot(t, R, 'g', alpha=0.7, linewidth=2, label='Recovered')\n",
    "  # plot_short(ax, t, S, 'b', 'susceptible')\n",
    "  # plot_short(ax, t, E, 'y', 'exposed')\n",
    "  # plot_short(ax, t, I, 'r', 'infected')\n",
    "  # plot_short(ax, t, R, 'g', 'recovered')\n",
    "  if D is not None:\n",
    "    ax.plot(t, D, 'k', alpha=0.7, linewidth=2, label='Dead')\n",
    "    # plot_short(ax, t, D, 'k', 'dead')\n",
    "    ax.plot(t, S+E+I+R+D, 'c--', alpha=0.7, linewidth=2, label='Total')\n",
    "    # plot_short(ax, t, S+E+I+R+D, 'c--', 'total')\n",
    "\n",
    "  else:\n",
    "    ax.plot(t, S+E+I+R, 'c--', alpha=0.7, linewidth=2, label='Total')\n",
    "    # plot_short(ax, t, S+E+I+R, 'c--', 'total')\n",
    "\n",
    "\n",
    "  ax.set_xlabel('Time (days)')\n",
    "\n",
    "  ax.yaxis.set_tick_params(length=0)\n",
    "  ax.xaxis.set_tick_params(length=0)\n",
    "  ax.grid(b=True, which='major', c='w', lw=2, ls='-')\n",
    "  legend = ax.legend(borderpad=2.0)\n",
    "  legend.get_frame().set_alpha(0.5)\n",
    "  for spine in ('top', 'right', 'bottom', 'left'):\n",
    "      ax.spines[spine].set_visible(False)\n",
    "  if L is not None:\n",
    "      plt.title(\"Lockdown after {} days\".format(L))\n",
    "  plt.show();\n",
    "\n",
    "  if R0 is not None or CFR is not None:\n",
    "    f = plt.figure(figsize=(12,4))\n",
    "  \n",
    "  if R0 is not None:\n",
    "    # sp1\n",
    "    ax1 = f.add_subplot(121)\n",
    "    ax1.plot(t, R0, 'b--', alpha=0.7, linewidth=2, label='R_0')\n",
    "\n",
    "    ax1.set_xlabel('Time (days)')\n",
    "    ax1.title.set_text('R_0 over time')\n",
    "    # ax.set_ylabel('Number (1000s)')\n",
    "    # ax.set_ylim(0,1.2)\n",
    "    ax1.yaxis.set_tick_params(length=0)\n",
    "    ax1.xaxis.set_tick_params(length=0)\n",
    "    ax1.grid(b=True, which='major', c='w', lw=2, ls='-')\n",
    "    legend = ax1.legend()\n",
    "    legend.get_frame().set_alpha(0.5)\n",
    "    for spine in ('top', 'right', 'bottom', 'left'):\n",
    "      ax.spines[spine].set_visible(False)\n",
    "\n",
    "  if Alpha is not None:\n",
    "    # sp2\n",
    "    ax2 = f.add_subplot(122)\n",
    "    ax2.plot(t, Alpha, 'r--', alpha=0.7, linewidth=2, label='alpha')\n",
    "\n",
    "    ax2.set_xlabel('Time (days)')\n",
    "    ax2.title.set_text('fatality rate over time')\n",
    "    # ax.set_ylabel('Number (1000s)')\n",
    "    # ax.set_ylim(0,1.2)\n",
    "    ax2.yaxis.set_tick_params(length=0)\n",
    "    ax2.xaxis.set_tick_params(length=0)\n",
    "    ax2.grid(b=True, which='major', c='w', lw=2, ls='-')\n",
    "    legend = ax2.legend()\n",
    "    legend.get_frame().set_alpha(0.5)\n",
    "    for spine in ('top', 'right', 'bottom', 'left'):\n",
    "      ax.spines[spine].set_visible(False)\n",
    "\n",
    "    plt.show();"
   ]
  },
  {
   "cell_type": "code",
   "execution_count": 300,
   "metadata": {},
   "outputs": [
    {
     "data": {
      "image/png": "[encoded data removed]",
      "text/plain": [
       "<Figure size 720x288 with 1 Axes>"
      ]
     },
     "metadata": {
      "needs_background": "light"
     },
     "output_type": "display_data"
    }
   ],
   "source": [
    "plotseird(t, S, E, I, R)"
   ]
  }
 ],
 "metadata": {
  "interpreter": {
   "hash": "1e4f0dc29bbf9ab205cf68868e36d11009e2c429405cf55e89cc6f23cca76fff"
  },
  "kernelspec": {
   "display_name": "Python 3.8.8 ('base')",
   "language": "python",
   "name": "python3"
  },
  "language_info": {
   "codemirror_mode": {
    "name": "ipython",
    "version": 3
   },
   "file_extension": ".py",
   "mimetype": "text/x-python",
   "name": "python",
   "nbconvert_exporter": "python",
   "pygments_lexer": "ipython3",
   "version": "3.8.8"
  },
  "orig_nbformat": 4
 },
 "nbformat": 4,
 "nbformat_minor": 2
}
